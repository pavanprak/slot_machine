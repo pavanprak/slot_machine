{
 "cells": [
  {
   "cell_type": "markdown",
   "id": "50267185",
   "metadata": {},
   "source": [
    "# slot machine"
   ]
  },
  {
   "cell_type": "code",
   "execution_count": 9,
   "id": "ee25ffcd",
   "metadata": {},
   "outputs": [],
   "source": [
    "# taking input from user"
   ]
  },
  {
   "cell_type": "code",
   "execution_count": 1,
   "id": "edb8e0e3",
   "metadata": {},
   "outputs": [],
   "source": [
    "def deposit():\n",
    "    while True:\n",
    "        amount = input(\"What would you like to deposit? $\")\n",
    "        if amount.isdigit():\n",
    "            amount = int(amount)\n",
    "            if amount > 0:\n",
    "                break\n",
    "            else:\n",
    "                print(\"Amount must be greater than 0.\")\n",
    "        else:\n",
    "            print(\"Please enter a number.\")\n",
    "\n",
    "    return amount"
   ]
  },
  {
   "cell_type": "code",
   "execution_count": 6,
   "id": "92518728",
   "metadata": {},
   "outputs": [],
   "source": [
    "def get_number_of_lines():\n",
    "    while True:\n",
    "        lines = input(\n",
    "            \"Enter the number of lines to bet on (1-\" + str(MAX_LINES) + \")? \")\n",
    "        if lines.isdigit():\n",
    "            lines = int(lines)\n",
    "            if 1 <= lines <= MAX_LINES:\n",
    "                break\n",
    "            else:\n",
    "                print(\"Enter a valid number of lines.\")\n",
    "        else:\n",
    "            print(\"Please enter a number.\")\n",
    "\n",
    "    return lines\n"
   ]
  },
  {
   "cell_type": "code",
   "execution_count": 7,
   "id": "75a109b4",
   "metadata": {},
   "outputs": [],
   "source": [
    "MAX_LINES = 3\n",
    "MAX_BET = 100\n",
    "MIN_BET = 1"
   ]
  },
  {
   "cell_type": "code",
   "execution_count": 8,
   "id": "ce4b8219",
   "metadata": {},
   "outputs": [],
   "source": [
    "def get_bet():\n",
    "    while True:\n",
    "        amount = input(\"What would you like to bet on each line? $\")\n",
    "        if amount.isdigit():\n",
    "            amount = int(amount)\n",
    "            if MIN_BET <= amount <= MAX_BET:\n",
    "                break\n",
    "            else:\n",
    "                print(f\"Amount must be between ${MIN_BET} - ${MAX_BET}.\")\n",
    "        else:\n",
    "            print(\"Please enter a number.\")\n",
    "\n",
    "    return amount"
   ]
  },
  {
   "cell_type": "code",
   "execution_count": 10,
   "id": "cbe8501a",
   "metadata": {},
   "outputs": [],
   "source": [
    "# slot machine part"
   ]
  },
  {
   "cell_type": "code",
   "execution_count": 11,
   "id": "6f0aa1bd",
   "metadata": {},
   "outputs": [],
   "source": [
    "import random"
   ]
  },
  {
   "cell_type": "code",
   "execution_count": 12,
   "id": "c4bb57d8",
   "metadata": {},
   "outputs": [],
   "source": [
    "\n",
    "ROWS = 3\n",
    "COLS = 3"
   ]
  },
  {
   "cell_type": "code",
   "execution_count": 13,
   "id": "0c933444",
   "metadata": {},
   "outputs": [],
   "source": [
    "symbol_count = {\n",
    "    \"A\": 2,\n",
    "    \"B\": 4,\n",
    "    \"C\": 6,\n",
    "    \"D\": 8\n",
    "}\n",
    "\n",
    "symbol_value = {\n",
    "    \"A\": 5,\n",
    "    \"B\": 4,\n",
    "    \"C\": 3,\n",
    "    \"D\": 2\n",
    "}"
   ]
  },
  {
   "cell_type": "code",
   "execution_count": 14,
   "id": "0e79684c",
   "metadata": {},
   "outputs": [],
   "source": [
    "def get_slot_machine_spin(rows, cols, symbols):\n",
    "    all_symbols = []\n",
    "    for symbol, symbol_count in symbols.items():\n",
    "        for _ in range(symbol_count):\n",
    "            all_symbols.append(symbol)\n",
    "\n",
    "    columns = []\n",
    "    for _ in range(cols):\n",
    "        column = []\n",
    "        current_symbols = all_symbols[:]\n",
    "        for _ in range(rows):\n",
    "            value = random.choice(current_symbols)\n",
    "            current_symbols.remove(value)\n",
    "            column.append(value)\n",
    "\n",
    "        columns.append(column)\n",
    "\n",
    "    return columns"
   ]
  },
  {
   "cell_type": "code",
   "execution_count": 15,
   "id": "c24d128e",
   "metadata": {},
   "outputs": [],
   "source": [
    "\n",
    "def print_slot_machine(columns):\n",
    "    for row in range(len(columns[0])):\n",
    "        for i, column in enumerate(columns):\n",
    "            if i != len(columns) - 1:\n",
    "                print(column[row], end=\" | \")\n",
    "            else:\n",
    "                print(column[row], end=\"\")\n",
    "\n",
    "        print()"
   ]
  },
  {
   "cell_type": "code",
   "execution_count": 18,
   "id": "ac251150",
   "metadata": {},
   "outputs": [],
   "source": [
    "# check the winnings"
   ]
  },
  {
   "cell_type": "code",
   "execution_count": 16,
   "id": "5b88a9ce",
   "metadata": {},
   "outputs": [],
   "source": [
    "def check_winnings(columns, lines, bet, values):\n",
    "    winnings = 0\n",
    "    winning_lines = []\n",
    "    for line in range(lines):\n",
    "        symbol = columns[0][line]\n",
    "        for column in columns:\n",
    "            symbol_to_check = column[line]\n",
    "            if symbol != symbol_to_check:\n",
    "                break\n",
    "        else:\n",
    "            winnings += values[symbol] * bet\n",
    "            winning_lines.append(line + 1)\n",
    "\n",
    "    return winnings, winning_lines\n"
   ]
  },
  {
   "cell_type": "code",
   "execution_count": 19,
   "id": "853b26fb",
   "metadata": {},
   "outputs": [],
   "source": [
    "def spin(balance):\n",
    "    lines = get_number_of_lines()\n",
    "    while True:\n",
    "        bet = get_bet()\n",
    "        total_bet = bet * lines\n",
    "\n",
    "        if total_bet > balance:\n",
    "            print(\n",
    "                f\"You do not have enough to bet that amount, your current balance is: ${balance}\")\n",
    "        else:\n",
    "            break\n",
    "\n",
    "    print(\n",
    "        f\"You are betting ${bet} on {lines} lines. Total bet is equal to: ${total_bet}\")\n",
    "\n",
    "    slots = get_slot_machine_spin(ROWS, COLS, symbol_count)\n",
    "    print_slot_machine(slots)\n",
    "    winnings, winning_lines = check_winnings(slots, lines, bet, symbol_value)\n",
    "    print(f\"You won ${winnings}.\")\n",
    "    print(f\"You won on lines:\", *winning_lines)\n",
    "    return winnings - total_bet\n"
   ]
  },
  {
   "cell_type": "code",
   "execution_count": 20,
   "id": "0e96510f",
   "metadata": {},
   "outputs": [],
   "source": [
    "def main():\n",
    "    balance = deposit()\n",
    "    while True:\n",
    "        print(f\"Current balance is ${balance}\")\n",
    "        answer = input(\"Press enter to play (q to quit).\")\n",
    "        if answer == \"q\":\n",
    "            break\n",
    "        balance += spin(balance)\n",
    "\n",
    "    print(f\"You left with ${balance}\")\n"
   ]
  },
  {
   "cell_type": "code",
   "execution_count": 21,
   "id": "f3c5cc58",
   "metadata": {},
   "outputs": [
    {
     "name": "stdout",
     "output_type": "stream",
     "text": [
      "What would you like to deposit? $100\n",
      "Current balance is $100\n",
      "Press enter to play (q to quit).\n",
      "Enter the number of lines to bet on (1-3)? 2\n",
      "What would you like to bet on each line? $40\n",
      "You are betting $40 on 2 lines. Total bet is equal to: $80\n",
      "D | C | D\n",
      "C | D | D\n",
      "C | D | C\n",
      "You won $0.\n",
      "You won on lines:\n",
      "Current balance is $20\n",
      "Press enter to play (q to quit).\n",
      "Enter the number of lines to bet on (1-3)? 1\n",
      "What would you like to bet on each line? $10\n",
      "You are betting $10 on 1 lines. Total bet is equal to: $10\n",
      "D | D | D\n",
      "B | D | C\n",
      "A | D | C\n",
      "You won $20.\n",
      "You won on lines: 1\n",
      "Current balance is $30\n",
      "Press enter to play (q to quit).q\n",
      "You left with $30\n"
     ]
    }
   ],
   "source": [
    "main()"
   ]
  },
  {
   "cell_type": "code",
   "execution_count": null,
   "id": "ffa804fa",
   "metadata": {},
   "outputs": [],
   "source": []
  }
 ],
 "metadata": {
  "kernelspec": {
   "display_name": "Python 3 (ipykernel)",
   "language": "python",
   "name": "python3"
  },
  "language_info": {
   "codemirror_mode": {
    "name": "ipython",
    "version": 3
   },
   "file_extension": ".py",
   "mimetype": "text/x-python",
   "name": "python",
   "nbconvert_exporter": "python",
   "pygments_lexer": "ipython3",
   "version": "3.9.7"
  }
 },
 "nbformat": 4,
 "nbformat_minor": 5
}
